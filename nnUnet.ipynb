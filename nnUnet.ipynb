{
 "cells": [
  {
   "cell_type": "code",
   "execution_count": 1,
   "metadata": {},
   "outputs": [],
   "source": [
    "import os\n",
    "base_dir = '/Users/oliviamurray/Documents/PhD/GitHub/tractTracker'\n",
    "os.chdir(base_dir)\n",
    "#comment after installed once\n",
    "#!git clone https://github.com/MIC-DKFZ/nnUNet.git \n",
    "#!git clone https://github.com/prateekgupta891/nnUNet.git #my forked version\n",
    "#!git clone https://github.com/NVIDIA/apex"
   ]
  },
  {
   "cell_type": "code",
   "execution_count": 2,
   "metadata": {},
   "outputs": [],
   "source": [
    "respository_dir = os.path.join(base_dir,'nnUNet')\n",
    "os.chdir(respository_dir)\n",
    "\n",
    "#!pip install -e .\n",
    "#(optional installation)\n",
    "#!pip install --upgrade git+https://github.com/nanohanno/hiddenlayer.git@bugfix/get_trace_graph#egg=hiddenlayer\n",
    "\n",
    "os.chdir(base_dir)"
   ]
  },
  {
   "cell_type": "code",
   "execution_count": 3,
   "metadata": {},
   "outputs": [],
   "source": [
    "\n",
    "#libraries\n",
    "import shutil\n",
    "from collections import OrderedDict\n",
    "import json\n",
    "import numpy as np\n",
    "\n",
    "#visualization of the dataset\n",
    "import matplotlib.pyplot as plt\n",
    "import nibabel as nib"
   ]
  },
  {
   "cell_type": "code",
   "execution_count": 4,
   "metadata": {},
   "outputs": [],
   "source": [
    "def make_if_dont_exist(folder_path,overwrite=False):\n",
    "    \"\"\"\n",
    "    creates a folder if it does not exists\n",
    "    input: \n",
    "    folder_path : relative path of the folder which needs to be created\n",
    "    over_write :(default: False) if True overwrite the existing folder \n",
    "    \"\"\"\n",
    "    if os.path.exists(folder_path):\n",
    "        \n",
    "        if not overwrite:\n",
    "            print(f'{folder_path} exists.')\n",
    "        else:\n",
    "            print(f\"{folder_path} overwritten\")\n",
    "            shutil.rmtree(folder_path)\n",
    "            os.makedirs(folder_path)\n",
    "\n",
    "    else:\n",
    "      os.makedirs(folder_path)\n",
    "      print(f\"{folder_path} created!\")"
   ]
  },
  {
   "cell_type": "code",
   "execution_count": 5,
   "metadata": {},
   "outputs": [],
   "source": [
    "\n",
    "task_name = 'Task101_IC' #change here for different task name\n",
    "nnunet_dir = \"nnUNet/nnunet/nnUNet_raw_data_base/nnUNet_raw_data\"\n",
    "task_folder_name = os.path.join(nnunet_dir,task_name)\n",
    "train_image_dir = os.path.join(task_folder_name,'imagesTr')\n",
    "train_label_dir = os.path.join(task_folder_name,'labelsTr')\n",
    "test_dir = os.path.join(task_folder_name,'imagesTs')\n",
    "main_dir = os.path.join(base_dir,'nnUNet/nnunet')"
   ]
  },
  {
   "cell_type": "code",
   "execution_count": 6,
   "metadata": {},
   "outputs": [
    {
     "name": "stdout",
     "output_type": "stream",
     "text": [
      "nnUNet/nnunet/nnUNet_raw_data_base/nnUNet_raw_data/Task101_IC created!\n",
      "nnUNet/nnunet/nnUNet_raw_data_base/nnUNet_raw_data/Task101_IC/imagesTr created!\n",
      "nnUNet/nnunet/nnUNet_raw_data_base/nnUNet_raw_data/Task101_IC/labelsTr created!\n",
      "nnUNet/nnunet/nnUNet_raw_data_base/nnUNet_raw_data/Task101_IC/imagesTs created!\n",
      "/Users/oliviamurray/Documents/PhD/GitHub/tractTracker/nnUNet/nnunet/nnunet_trained_models created!\n"
     ]
    }
   ],
   "source": [
    "\n",
    "make_if_dont_exist(task_folder_name,overwrite = False)\n",
    "make_if_dont_exist(train_image_dir)\n",
    "make_if_dont_exist(train_label_dir)\n",
    "make_if_dont_exist(test_dir,overwrite= False)\n",
    "make_if_dont_exist(os.path.join(main_dir,'nnunet_trained_models'))"
   ]
  },
  {
   "cell_type": "code",
   "execution_count": 7,
   "metadata": {},
   "outputs": [],
   "source": [
    "\n",
    "os.environ['nnUNet_raw_data_base'] = os.path.join(main_dir,'nnUNet_raw_data_base')\n",
    "os.environ['nnUNet_preprocessed'] = os.path.join(main_dir,'preprocessed')\n",
    "os.environ['RESULTS_FOLDER'] = os.path.join(main_dir,'nnUNet_trained_models')"
   ]
  },
  {
   "cell_type": "code",
   "execution_count": 8,
   "metadata": {},
   "outputs": [],
   "source": [
    "def copy_and_rename(old_location,old_file_name,new_location,new_filename,delete_original = False):\n",
    "\n",
    "    shutil.copy(os.path.join(old_location,old_file_name),new_location)\n",
    "    os.rename(os.path.join(new_location,old_file_name),os.path.join(new_location,new_filename))\n",
    "    if delete_original:\n",
    "        os.remove(os.path.join(old_location,old_file_name))"
   ]
  },
  {
   "cell_type": "code",
   "execution_count": null,
   "metadata": {},
   "outputs": [],
   "source": []
  }
 ],
 "metadata": {
  "interpreter": {
   "hash": "9949f1d094e9ccddf874c62d3c4a81ed0ce9f42a87bb27637060ff8bfd06699f"
  },
  "kernelspec": {
   "display_name": "Python 3.9.7 ('base')",
   "language": "python",
   "name": "python3"
  },
  "language_info": {
   "codemirror_mode": {
    "name": "ipython",
    "version": 3
   },
   "file_extension": ".py",
   "mimetype": "text/x-python",
   "name": "python",
   "nbconvert_exporter": "python",
   "pygments_lexer": "ipython3",
   "version": "3.9.7"
  },
  "orig_nbformat": 4
 },
 "nbformat": 4,
 "nbformat_minor": 2
}
